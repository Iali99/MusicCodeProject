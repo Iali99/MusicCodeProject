{
 "cells": [
  {
   "cell_type": "code",
   "execution_count": 1,
   "metadata": {},
   "outputs": [],
   "source": [
    "import musicalbeeps"
   ]
  },
  {
   "cell_type": "code",
   "execution_count": 2,
   "metadata": {},
   "outputs": [],
   "source": [
    "player = musicalbeeps.Player(volume = 0.3,\n",
    "                            mute_output = False)"
   ]
  },
  {
   "cell_type": "code",
   "execution_count": 12,
   "metadata": {},
   "outputs": [
    {
     "name": "stdout",
     "output_type": "stream",
     "text": [
      "Playing A (440.00 Hz) for 10s\n"
     ]
    }
   ],
   "source": [
    "player.play_note(\"A\", 10)"
   ]
  },
  {
   "cell_type": "code",
   "execution_count": 6,
   "metadata": {},
   "outputs": [
    {
     "name": "stdout",
     "output_type": "stream",
     "text": [
      "A\n"
     ]
    }
   ],
   "source": [
    "Notes  = ['A','A','B','C','C','D','D','E','F','F','G','G']\n",
    "Sharps = ['','#','','','#','','#','','','#','','#']\n",
    "print(Notes[0])"
   ]
  },
  {
   "cell_type": "code",
   "execution_count": 10,
   "metadata": {},
   "outputs": [],
   "source": [
    "def ConstructStringNotes(StartNote, Octave, frets):\n",
    "    stringNotes = []\n",
    "    octv = Octave\n",
    "    for i in range(frets+1):\n",
    "        pos = (StartNote + i)%12\n",
    "        note = Notes[pos] + str(octv) + Sharps[pos]\n",
    "        stringNotes.append(note)\n",
    "        if pos == 2 :\n",
    "            octv += 1\n",
    "            \n",
    "    return stringNotes"
   ]
  },
  {
   "cell_type": "code",
   "execution_count": 13,
   "metadata": {},
   "outputs": [
    {
     "name": "stdout",
     "output_type": "stream",
     "text": [
      "['B4', 'C5', 'C5#', 'D5', 'D5#', 'E5', 'F5', 'F5#', 'G5', 'G5#', 'A5', 'A5#', 'B5', 'C6', 'C6#', 'D6', 'D6#', 'E6', 'F6', 'F6#', 'G6', 'G6#', 'A6', 'A6#', 'B6']\n"
     ]
    }
   ],
   "source": [
    "print(ConstructStringNotes(7,5,24))"
   ]
  },
  {
   "cell_type": "code",
   "execution_count": 15,
   "metadata": {},
   "outputs": [],
   "source": [
    "FretBoardNotes = []\n",
    "FretBoardNotes.append(ConstructStringNotes(7,3,24))\n",
    "FretBoardNotes.append(ConstructStringNotes(0,3,24))\n",
    "FretBoardNotes.append(ConstructStringNotes(5,4,24))\n",
    "FretBoardNotes.append(ConstructStringNotes(10,4,24))\n",
    "FretBoardNotes.append(ConstructStringNotes(2,4,24))\n",
    "FretBoardNotes.append(ConstructStringNotes(7,5,24))\n"
   ]
  },
  {
   "cell_type": "code",
   "execution_count": 16,
   "metadata": {},
   "outputs": [
    {
     "name": "stdout",
     "output_type": "stream",
     "text": [
      "[['E3', 'F3', 'F3#', 'G3', 'G3#', 'A3', 'A3#', 'B3', 'C4', 'C4#', 'D4', 'D4#', 'E4', 'F4', 'F4#', 'G4', 'G4#', 'A4', 'A4#', 'B4', 'C5', 'C5#', 'D5', 'D5#', 'E5'], ['A3', 'A3#', 'B3', 'C4', 'C4#', 'D4', 'D4#', 'E4', 'F4', 'F4#', 'G4', 'G4#', 'A4', 'A4#', 'B4', 'C5', 'C5#', 'D5', 'D5#', 'E5', 'F5', 'F5#', 'G5', 'G5#', 'A5'], ['D4', 'D4#', 'E4', 'F4', 'F4#', 'G4', 'G4#', 'A4', 'A4#', 'B4', 'C5', 'C5#', 'D5', 'D5#', 'E5', 'F5', 'F5#', 'G5', 'G5#', 'A5', 'A5#', 'B5', 'C6', 'C6#', 'D6'], ['G4', 'G4#', 'A4', 'A4#', 'B4', 'C5', 'C5#', 'D5', 'D5#', 'E5', 'F5', 'F5#', 'G5', 'G5#', 'A5', 'A5#', 'B5', 'C6', 'C6#', 'D6', 'D6#', 'E6', 'F6', 'F6#', 'G6'], ['B4', 'C5', 'C5#', 'D5', 'D5#', 'E5', 'F5', 'F5#', 'G5', 'G5#', 'A5', 'A5#', 'B5', 'C6', 'C6#', 'D6', 'D6#', 'E6', 'F6', 'F6#', 'G6', 'G6#', 'A6', 'A6#', 'B6'], ['E5', 'F5', 'F5#', 'G5', 'G5#', 'A5', 'A5#', 'B5', 'C6', 'C6#', 'D6', 'D6#', 'E6', 'F6', 'F6#', 'G6', 'G6#', 'A6', 'A6#', 'B6', 'C7', 'C7#', 'D7', 'D7#', 'E7']]\n"
     ]
    }
   ],
   "source": [
    "print(FretBoardNotes)"
   ]
  },
  {
   "cell_type": "code",
   "execution_count": 17,
   "metadata": {},
   "outputs": [],
   "source": [
    "def GetMinorPentatonicNotes(StartFret):\n",
    "    pentatonicNotes = []\n",
    "    pentatonicNotes.append(FretBoardNotes[0][StartFret])\n",
    "    pentatonicNotes.append(FretBoardNotes[0][StartFret+3])    \n",
    "    pentatonicNotes.append(FretBoardNotes[1][StartFret])    \n",
    "    pentatonicNotes.append(FretBoardNotes[1][StartFret+2])   \n",
    "    pentatonicNotes.append(FretBoardNotes[2][StartFret])\n",
    "    pentatonicNotes.append(FretBoardNotes[2][StartFret+2])    \n",
    "    pentatonicNotes.append(FretBoardNotes[3][StartFret])    \n",
    "    pentatonicNotes.append(FretBoardNotes[3][StartFret+2]) \n",
    "    pentatonicNotes.append(FretBoardNotes[4][StartFret])\n",
    "    pentatonicNotes.append(FretBoardNotes[4][StartFret+3])    \n",
    "    pentatonicNotes.append(FretBoardNotes[5][StartFret])    \n",
    "    pentatonicNotes.append(FretBoardNotes[5][StartFret+3])\n",
    "    return pentatonicNotes"
   ]
  },
  {
   "cell_type": "code",
   "execution_count": 18,
   "metadata": {},
   "outputs": [
    {
     "name": "stdout",
     "output_type": "stream",
     "text": [
      "['F3', 'G3#', 'A3#', 'C4', 'D4#', 'F4', 'G4#', 'A4#', 'C5', 'D5#', 'F5', 'G5#']\n"
     ]
    }
   ],
   "source": [
    "print(GetMinorPentatonicNotes(1))"
   ]
  },
  {
   "cell_type": "code",
   "execution_count": null,
   "metadata": {},
   "outputs": [],
   "source": []
  }
 ],
 "metadata": {
  "kernelspec": {
   "display_name": "Python 3",
   "language": "python",
   "name": "python3"
  },
  "language_info": {
   "codemirror_mode": {
    "name": "ipython",
    "version": 3
   },
   "file_extension": ".py",
   "mimetype": "text/x-python",
   "name": "python",
   "nbconvert_exporter": "python",
   "pygments_lexer": "ipython3",
   "version": "3.7.2"
  }
 },
 "nbformat": 4,
 "nbformat_minor": 2
}
